{
 "cells": [
  {
   "cell_type": "markdown",
   "id": "a58334e2",
   "metadata": {},
   "source": [
    "# Extract Tutorial"
   ]
  },
  {
   "cell_type": "markdown",
   "id": "f300c8e9",
   "metadata": {},
   "source": [
    "## Outline\n",
    "\n",
    "This notebook shows how to create the necessary configuration files to run QuiCAT extract workflows.\n",
    "For demonstration purposes, we will use a sample with bulk DNA sequencing of cell lines that were separately barcoded using a modified version of [LARRY](https://www.nature.com/articles/s41592-020-0802-3), and then pooled together. Each cell line was tagged with a unique barcode and sequenced individually before pooling to confirm the sequences (Figure 1).\n",
    "\n",
    "In this scenario, the best approach would be to use the reference-based method of QuiCAT, but we will showcase both reference-free and reference-based approaches for demonstration purposes.\n",
    "\n",
    "The modified version of the LARRY barcode has the following structure:\n",
    "\n",
    "<span style=\"color:grey\">NNNN</span>\n",
    "<span style=\"color:red\">CT</span>\n",
    "<span style=\"color:grey\">NNNN</span>\n",
    "<span style=\"color:red\">AC</span>\n",
    "<span style=\"color:grey\">NNNN</span>\n",
    "followed by a conserved region\n",
    "<span style=\"color:red\">CATA</span>\n",
    "\n",
    "We will show how to extract this barcode using:\n",
    "\n",
    "* A reference-free approach exploiting the conserved flanking region\n",
    "* A reference-free approach leveraging the fixed nucleotide positions in the barcodes\n",
    "* A reference-based approach\n",
    "\n",
    "We will explain the input fields of the YAML configuration file in detail, populating it step by step as we go. \n",
    "\n",
    "Finally, for the reference-based approach, we will provide the reference FASTA file at the end of this tutorial. However, you can also apply what you’ve learned to restart from the single-clone sequencing files and generate the reference yourself."
   ]
  },
  {
   "cell_type": "markdown",
   "id": "0dad8217",
   "metadata": {
    "vscode": {
     "languageId": "plaintext"
    }
   },
   "source": [
    "<figure style=\"text-align: left;\">\n",
    "  <img src=\"../../assets/larry_exp_design.png\" alt=\"Experimental design of pooled barcoded cell lines\" style=\"display: block; margin: 0;\" />\n",
    "  <figcaption style=\"text-align: left; margin-top: 2rem;\"><strong>Figure 1.</strong> Experimental design of the pooled barcoded cell lines (with modified LARRY barcodes) used throughout this tutorial. Clones were isolated, barcoded, and expanded individually. The integrated barcode sequences were confirmed by NGS. Finally the clones were pooled in similar proportions and sequenced again.</figcaption>\n",
    "</figure>"
   ]
  },
  {
   "cell_type": "markdown",
   "id": "240e476e",
   "metadata": {
    "vscode": {
     "languageId": "plaintext"
    }
   },
   "source": [
    "## Dataset Download\n",
    "\n",
    "The dataset used in this tutorial can be downloaded from Zenodo:\n",
    "\n",
    "```bash\n",
    "cd desired_download_location\n",
    "wget -O larry_dna.tar.gz https://zenodo.org/records/16911389/files/larry_dna.tar.gz?download=1\n",
    "tar -xzvf larry_dna.tar.gz\n",
    "cd larry_zenodo\n",
    "```\n",
    "\n",
    "After the download and extraction of the archive is done you will find 2 folders:\n",
    "\n",
    "* `single_clones` : contains the FASTQ files of the individually sequenced clones\n",
    "* `pooled_clones` : contains the FASTQ files from the pooled clone sequencing experiment\n",
    "\n",
    "Note: `single_clones` data is single-end sequencing, while the `pooled_clones` data is paired-end sequencing. Keep this in mind if you want to restart from the single-clone stage to generate the reference.\n"
   ]
  },
  {
   "cell_type": "markdown",
   "id": "78da6b1a",
   "metadata": {},
   "source": [
    "## Configuration file overview\n",
    "\n",
    "The `QuiCAT extract` CLI command requires a yaml configuration file to specify the parameterers for the extraction process.\n",
    "This section explains how to compose the YAML config for reference-free and reference-based workflows."
   ]
  },
  {
   "cell_type": "markdown",
   "id": "3a8eb88d",
   "metadata": {},
   "source": [
    "### Shared parameters\n",
    "\n",
    "#### General parameters\n",
    "The first things we want to specify for QuiCAT to run are:\n",
    "* `sequencing_technology`: with this parameter we can specify which data are we dealing with:\n",
    "  * `DNA` if it is a bulk DNA dataset\n",
    "  * `10x` if it is a dataset from 10x genomics, like Chromium single cell or Visium\n",
    "  * `Parse` if it is a dataset from Parse biosciences\n",
    "* `input` to specify whether we are giving `fastq` files or `bam` files as input.\n",
    "* `paired_end` if it we are using fastq files input and it is from paired end sequencing.\n",
    "\n",
    "\n",
    "#### QC parameters\n",
    "\n",
    "Here we specify the criteria to retain the barcode based on filtering thresholds:\n",
    "\n",
    "* `barcodes_path`: By setting this to true, we can then provide QuiCAT with a set of whitelisted cells or spots. Reads coming from outside  the whitelisted cells are automatically discarded.\n",
    "* `phred33`: if set to true, it will use <span style=\"color:red\">PHRED33 score</span> for quality control otherwise it will use <span style=\"color:red\">PHRED64</span> \n",
    "* `read_qc_threshold` and `read_qc_percentage` used in combination allow QuiCAT to discard reads based on quality scores. In particular the user can set how many base pairs in percentage need to have a PHRED score of at least the specified threshold.\n",
    "* `filter_barcodes_relative_abundance` discard barcodes which frequencies are below the specified abundance threshold.\n",
    "* `filter_barcodes_raw_numbers`: discard barcodes which absolute counts are below the specified threshold.\n",
    "\n",
    "In our specific case we are dealing with a bulk DNA dataset with fastq input files and paired end sequencing.\n",
    "Furthermore we want to retain reads where at least 80% of the base pairs have a PHRED score of at least 20, and discard the barcodes that have a relative abundance below 0.001%.\n",
    "\n",
    "The config file will therefore look like this:"
   ]
  },
  {
   "cell_type": "markdown",
   "id": "17daab56",
   "metadata": {},
   "source": [
    "```yaml\n",
    "config:\n",
    "  sequencing_technology: \"DNA\"\n",
    "  input: \"fastq\"\n",
    "  paired_end: true\n",
    "  barcodes_path: false\n",
    "  phred33: true\n",
    "  read_qc_threshold: 20\n",
    "  read_qc_percentage:  80\n",
    "  filter_barcodes_relative_abundance: 0.001\n",
    "  filter_barcodes_raw_numbers: null\n",
    "```\n"
   ]
  },
  {
   "cell_type": "markdown",
   "id": "88e8c051",
   "metadata": {},
   "source": [
    "### Reference-Free parameters\n",
    "\n",
    "Now that all the general parameters are set, it is time to set the Reference-Free specific parameters.\n",
    "\n",
    "#### Using the flanking regions\n",
    "\n",
    "First we start by specifying the reference itself. To tell QuiCAT that we want to use the Reference-Free approach, we can simply specify a string in the `reference` field. If we specify a path to a reference file in either FASTA, JSON, or TXT, then the reference-based approach is used instead.\n",
    "\n",
    "Note that if we specify flanking regions, we can use:\n",
    "\n",
    "- \"*SEQUENCE\" to specify the downstream region\n",
    "- \"SEQUENCE*\" to specify the upstream region\n",
    "- \"SEQUENCE*SEQUENCE\" to specify both"
   ]
  },
  {
   "cell_type": "markdown",
   "id": "c513a7d9",
   "metadata": {},
   "source": [
    "Given the structure of the modified LARRY barcode, we can use two strategies:\n",
    "    \n",
    "Either we specify the downstream adapter, or we specify the structure of the barcode indicating the conserved nucleotides and masking the others with 'N'\n",
    "We will start by creating a configuration file to use the downstream flanking region."
   ]
  },
  {
   "cell_type": "markdown",
   "id": "c8a5cd5d",
   "metadata": {},
   "source": [
    "```yaml\n",
    "config:\n",
    "    ...\n",
    "    reference: \"*CATA\"\n",
    "```"
   ]
  },
  {
   "cell_type": "markdown",
   "id": "555355d4",
   "metadata": {},
   "source": [
    "Next, we need to define additional parameters that are specific to the Reference-Free approach.\n",
    "If we are specifying flanking regions, then we need to add `flanked_pattern: true`; otherwise, we can omit this field.\n",
    "We can then specify a range for the barcode length using `min_read_length` and `max_read_length`, or alternatively, specify a fixed barcode length with `read_length`.\n",
    "\n",
    "The flanking_mismatches parameter allows the user to indicate whether they are willing to accept some mismatches in the flanking regions, or if they only want to extract barcodes that have a 100% match in those regions. If left blank or set to 0, QuiCAT will use REGEX matching to extract only barcodes with a perfect flanking match. If a value is instead specified, QuiCAT switches to\n",
    "<span style=\"color:red\">CUTADAPT</span>\n",
    "and can extract barcodes even when there are mismatches in the flanking regions.\n",
    "\n",
    "For example, if we set flanking_mismatches: 0.25, we allow QuiCAT to extract barcodes even if up to 25% of the nucleotides in the specified flanking region are mismatched."
   ]
  },
  {
   "cell_type": "markdown",
   "id": "f4e874a0",
   "metadata": {},
   "source": [
    "Finally, we want to specify whether to collapse barcodes with low counts into those with higher counts, in order to correct for sequencing errors.\n",
    "For this, we will use two parameters: distance_threshold and barcode_ratio.\n",
    "With distance_threshold, we tell QuiCAT to collapse barcodes with low counts into barcodes with higher counts, provided that their distance is below the specified threshold.\n",
    "With barcode_ratio, we instruct QuiCAT to perform the collapse only if the higher-count barcode is more frequent than the lower-count one by the specified factor.\n",
    "\n",
    "For example, if we want to collapse low-frequency barcodes into high-frequency ones when their distance is within 2 base pairs of difference, and we want to retain low-frequency barcodes unless the higher-frequency ones are at least 3 times more abundant, then the config file will have:"
   ]
  },
  {
   "cell_type": "markdown",
   "id": "f51ea65d",
   "metadata": {},
   "source": [
    "In our case we want to use the downstream region `CATA`, allow 25% mismatch in the flanking region, and set the read length to 16 nucleotides.\n",
    "Furthermore we want to collapse low frequency barcodes, so we set the distance threshold to 2, but we only want to collapse barcodes into high-frequency ones only if the high-frequency ones have frequencies of at least three times higher than the low frequency ones therefore setting the barcode ratio to 3.\n",
    "\n",
    "To bring it all together, the final config file will look like this:"
   ]
  },
  {
   "cell_type": "markdown",
   "id": "8f0e685e",
   "metadata": {},
   "source": [
    "```yaml\n",
    "config:\n",
    "  sequencing_technology: \"DNA\"\n",
    "  input: \"fastq\"\n",
    "  paired_end: true\n",
    "  barcodes_path: false\n",
    "  phred33: true\n",
    "  read_qc_threshold: 20\n",
    "  read_qc_percentage: 80\n",
    "  filter_barcodes_relative_abundance: 0.001\n",
    "  filter_barcodes_raw_numbers: null\n",
    "  reference: \"*CATA\"\n",
    "  flanked_pattern: true\n",
    "  read_length: 16\n",
    "  flanking_mismatches: 0.25\n",
    "  distance_threshold: 2\n",
    "  barcode_ratio: 3\n",
    "```"
   ]
  },
  {
   "cell_type": "markdown",
   "id": "8d04ce12",
   "metadata": {},
   "source": [
    "#### Using the barcode pattern\n",
    "\n",
    "Some barcodes library like LARRY have conserved nucleotide positions that can also be leveraged for the extraction process.\n",
    "\n",
    "Recalling the modified LARRY barcode structure ( <span style=\"color:grey\">NNNN</span>\n",
    "<span style=\"color:red\">CT</span>\n",
    "<span style=\"color:grey\">NNNN</span>\n",
    "<span style=\"color:red\">AC</span>\n",
    "<span style=\"color:grey\">NNNN</span> ) we can use the conserved nucleotides and mask all the other positions with <span style=\"color:grey\">N</span>\n",
    "\n"
   ]
  },
  {
   "cell_type": "markdown",
   "id": "a1005fcf",
   "metadata": {},
   "source": [
    "```yaml\n",
    "config:\n",
    "    ...\n",
    "    reference: \"NNNNCTNNNNACNNNN\"\n",
    "```"
   ]
  },
  {
   "cell_type": "markdown",
   "id": "52298ed5",
   "metadata": {},
   "source": [
    "Since using this pattern we are already specifying the length of the barcodes, we do not need to use length parameters in this setup.\n",
    "Likewise since the flanking region is not used, the `flanking_mismatches` parameter is also superfluous here.\n",
    "\n",
    "The update version of the config file would therefore look like this:"
   ]
  },
  {
   "cell_type": "markdown",
   "id": "dd3cbdc1",
   "metadata": {},
   "source": [
    "```yaml\n",
    "config:\n",
    "  sequencing_technology: \"DNA\"\n",
    "  input: \"fastq\"\n",
    "  paired_end: true\n",
    "  barcodes_path: false\n",
    "  phred33: true\n",
    "  read_qc_threshold: 20\n",
    "  read_qc_percentage: 80\n",
    "  filter_barcodes_relative_abundance: 0.001\n",
    "  filter_barcodes_raw_numbers: null\n",
    "  reference: \"NNNNCTNNNNACNNNN\"\n",
    "  flanked_pattern: false\n",
    "  read_length: null\n",
    "  flanking_mismatches: null\n",
    "  distance_threshold: 2\n",
    "  barcode_ratio: 3\n",
    "```"
   ]
  },
  {
   "cell_type": "markdown",
   "id": "fe1e7754",
   "metadata": {},
   "source": [
    "### Reference-Based parameters\n",
    "\n",
    "As mentioned above, to switch from the reference-free to the reference-based workflow, it is sufficient to specify the path to a reference file instead of a string in the `reference` parameter of the config file.\n",
    "\n",
    "#### How to provide a reference to QuiCAT\n",
    "QuiCAT accepts 3 file formats for the reference: <span style=\"color:red\">FASTA, JSON, or plain TXT</span> files.\n",
    "The key difference is that when using <span style=\"color:red\">FASTA</span> or <span style=\"color:red\">JSON</span>, the barcode name as reported in the reference file will be stored in the final output.\n",
    "If a plain <span style=\"color:red\">TXT</span> file is used, then the raw sequences themselves are stored in the final outputs.\n",
    "\n",
    "Below we show an example with only two clone from this experiment on how to setup the different reference files."
   ]
  },
  {
   "cell_type": "markdown",
   "id": "22fc5af5",
   "metadata": {},
   "source": [
    "##### FASTA example\n",
    "\n",
    "To provide a reference in FASTA format, the user can create a FASTA file where each entry contains a barcode sequence to be extracted, and the header represents the name of the barcode as the user wants it to appear in the final output.\n",
    "\n",
    "\n",
    "```\n",
    ">clone_01\n",
    "GTGCCTATGCACAAAA\n",
    ">clone_02\n",
    "TCGCCTAATGACTTAA\n",
    "...\n",
    "```"
   ]
  },
  {
   "cell_type": "markdown",
   "id": "04a6ea03",
   "metadata": {},
   "source": [
    "##### JSON example\n",
    "\n",
    "To provide a reference in JSON format, the user can create a JSON file storing keys and values, where each key contains a barcode sequence to be extracted, and the corresponding values represents the name of the barcode as the user wants it to appear in the final output.\n",
    "\n",
    "\n",
    "```json\n",
    "{\n",
    "    \"GTGCCTATGCACAAAA\": \"clone_01\",\n",
    "    \"TCGCCTAATGACTTAA\": \"clone_02\",\n",
    "    ...\n",
    "}\n",
    "```"
   ]
  },
  {
   "cell_type": "markdown",
   "id": "8689dbfb",
   "metadata": {},
   "source": [
    "##### TXT example\n",
    "\n",
    "To provide a reference in TXT format, the user can create a plain TXT file where each line represent a sequence, separated by the newline character.\n",
    "\n",
    "```\n",
    "GTGCCTATGCACAAAA\n",
    "TCGCCTAATGACTTAA\n",
    "...\n",
    "```\n",
    "\n",
    "Once again contrary to FASTA and JSON, if a TXT file is used, the raw sequences will be stored in the final output rather than the barcodes'names as specified by the user."
   ]
  },
  {
   "cell_type": "markdown",
   "id": "362a6014",
   "metadata": {},
   "source": [
    "#### Specifying the remaining parameters"
   ]
  },
  {
   "cell_type": "markdown",
   "id": "c8220b51",
   "metadata": {},
   "source": [
    "Most of the parameters used in the reference-free workflow are no longer required in the reference-based workflow.\n",
    "In particular, the parameters related to barcode length and barcode collapsing become superfluous.\n",
    "\n",
    "Instead, the only relevant parameter is now `aln_mismatches`. As described in the manuscript—and similarly to the reference-free workflow—the reference-based workflow of QuiCAT leaves it to the user to decide whether to be error-tolerant or not.\n",
    "\n",
    "If aln_mismatches is set to 0, the **Aho-Corasick** algorithm will be used to extract barcodes with a 100% match to the reference in almost linear time, at the expense of sensitivity. Conversely, if aln_mismatches is set to a value equal to or greater than 1, QuiCAT switches to the global aligner <span style=\"color:red\">EDLIB</span>.\n",
    "\n",
    "With this setup, **Aho-Corasick** will be used:\n",
    "\n",
    "```yaml\n",
    "config:\n",
    "    ...\n",
    "    aln_mismatches: null or 0\n",
    "```\n",
    "Whereas to allow for mismatches in the alignment, the aln_mismatches parameter can be used to control how many mismatches are permitted:\n",
    "```yaml\n",
    "config:\n",
    "    ...\n",
    "    aln_mismatches: 1 or greater\n",
    "```"
   ]
  },
  {
   "cell_type": "markdown",
   "id": "a6af2a7c",
   "metadata": {},
   "source": [
    "The final config file will therefore look like this:\n",
    "\n",
    "```yaml\n",
    "config:\n",
    "  sequencing_technology: \"DNA\"\n",
    "  input: \"fastq\"\n",
    "  paired_end: true\n",
    "  barcodes_path: false\n",
    "  phred33: true\n",
    "  read_qc_threshold: 20\n",
    "  read_qc_percentage: 80\n",
    "  filter_barcodes_relative_abundance: 0.001\n",
    "  filter_barcodes_raw_numbers: null\n",
    "  reference: \"/path/to/reference/file\"\n",
    "  aln_mismatches: ...\n",
    "```\n"
   ]
  },
  {
   "cell_type": "markdown",
   "id": "1e7124be",
   "metadata": {},
   "source": [
    "### I/O"
   ]
  },
  {
   "cell_type": "markdown",
   "id": "8386e255",
   "metadata": {},
   "source": [
    "Finally the last two parameters to be set in the  **YAML** file are the path to a csv file to specify sample metadata and relevant files path (see below), and the path to an output directory where to store the final outputs of the extraction workflow.\n",
    "\n",
    "```yaml\n",
    "config:\n",
    "  ...\n",
    "\n",
    "input_csv: \"/path/to/input.csv\"\n",
    "output_path: \"/path/to/output/directory\"\n",
    "```\n"
   ]
  },
  {
   "cell_type": "markdown",
   "id": "fce9cbc3",
   "metadata": {},
   "source": [
    "#### The input csv file\n",
    "\n",
    "Next we have to create an input csv file that contains the information about the samples we want to process, and the path to the relevant files.\n",
    "\n",
    "The input csv file should have the following columns:"
   ]
  },
  {
   "cell_type": "markdown",
   "id": "b0d634d4",
   "metadata": {},
   "source": [
    "\n",
    "```\n",
    "sample,fastq_path_r1,fastq_path_r2,barcodes_path,bam_path,condition,replicate\n",
    "```"
   ]
  },
  {
   "cell_type": "markdown",
   "id": "619b44eb",
   "metadata": {},
   "source": [
    "In our case since we are working with fastq files, with paired end sequencing and no whitelisted cells are specified the columns that we should fill are `sample,fastq_path_r1,fastq_path_r2`, whereas `barcodes_path,bam_path` can be left blank.\n",
    "\n",
    "The input csv file should look like this:"
   ]
  },
  {
   "cell_type": "markdown",
   "id": "da5c0ad4",
   "metadata": {},
   "source": [
    "```\n",
    "sample,fastq_path_r1,fastq_path_r2,barcodes_path,bam_path,condition,replicate\n",
    "sample_01,/path/to/R1.fastq,/path/to/R2.fastq,,,,\n",
    "```"
   ]
  },
  {
   "cell_type": "markdown",
   "id": "609ce42a",
   "metadata": {
    "vscode": {
     "languageId": "plaintext"
    }
   },
   "source": [
    "`condition` and `replicate` are instead optional metadata fields that would be added in the final output metadata columns in case they are filled in."
   ]
  },
  {
   "cell_type": "markdown",
   "id": "972aa32c",
   "metadata": {
    "vscode": {
     "languageId": "plaintext"
    }
   },
   "source": [
    "## Running the extraction workflow"
   ]
  },
  {
   "cell_type": "markdown",
   "id": "9f6b3e14",
   "metadata": {
    "vscode": {
     "languageId": "plaintext"
    }
   },
   "source": [
    "Once both the **YAML** configuration file and the input csv file are created, running the extraction workflow is as easy as running on a terminal:\n",
    "```sh\n",
    "quicat extract /path/to/config.yaml\n",
    "```"
   ]
  },
  {
   "cell_type": "markdown",
   "id": "ceda9edb",
   "metadata": {},
   "source": [
    "QuiCAT will first validate the config file, check if the files specified in the input csv file exist, and then start the extraction process.\n",
    "\n",
    "Once it is done, QuiCAT will store the results at the specified location both in `csv` and anndata `h5ad` format which can be imported with [scanpy](https://scanpy.readthedocs.io/en/latest/index.html) for further downstream analyses."
   ]
  },
  {
   "cell_type": "markdown",
   "id": "4ef20c8c",
   "metadata": {
    "vscode": {
     "languageId": "plaintext"
    }
   },
   "source": [
    "## Working with BAM files"
   ]
  },
  {
   "cell_type": "markdown",
   "id": "f86c15df",
   "metadata": {
    "vscode": {
     "languageId": "plaintext"
    }
   },
   "source": [
    "So far we created a config file to work with fastq files but QuiCAT can also work with BAM files.\n",
    "Let's go back to the latest version of our config file we generated for our reference-based workflow:\n",
    "\n",
    "```yaml\n",
    "config:\n",
    "  sequencing_technology: \"DNA\"\n",
    "  input: \"fastq\"\n",
    "  paired_end: true\n",
    "  barcodes_path: false\n",
    "  phred33: true\n",
    "  read_qc_threshold: 20\n",
    "  read_qc_percentage: 80\n",
    "  filter_barcodes_relative_abundance: 0.001\n",
    "  filter_barcodes_raw_numbers: null\n",
    "  reference: \"/path/to/reference/file\"\n",
    "  aln_mismatches: ...\n",
    "```\n"
   ]
  },
  {
   "cell_type": "markdown",
   "id": "6e2c84f1",
   "metadata": {
    "vscode": {
     "languageId": "plaintext"
    }
   },
   "source": [
    "To switch from FASTQ to BAM, all we have to do is change the input field from \"fastq\" to \"bam\".\n",
    "The paired_end parameter is now superfluous and can be set to null:\n",
    "\n",
    "```yaml\n",
    "config:\n",
    "  input: \"bam\"\n",
    "  paired_end: null\n",
    "  ...\n",
    "```\n",
    "\n",
    "Additionally, when working with BAM files, the user can choose whether to scan the entire file or focus on reads aligned to a particular contig by using the contig parameter.\n",
    "If the contig parameter is set to null, the whole file will be scanned:\n",
    "\n",
    "```yaml\n",
    "config:\n",
    "  input: \"bam\"\n",
    "  paired_end: null\n",
    "  contig: null\n",
    "  ...\n",
    "```\n",
    "\n",
    "If, for example, the user only wants to scan reads aligned to Chromosome 1, it can be specified as:\n",
    "\n",
    "```yaml\n",
    "config:\n",
    "  input: \"bam\"\n",
    "  paired_end: null\n",
    "  contig: 'Chr1'\n",
    "  ...\n",
    "```\n",
    "\n",
    "Lastly, if the user wants to focus on unaligned reads—which is often where genetic barcodes are found—this can be specified by setting contig to \"*\":\n",
    "\n",
    "```yaml\n",
    "config:\n",
    "  input: \"bam\"\n",
    "  paired_end: null\n",
    "  contig: '*'\n",
    "  ...\n",
    "```\n",
    "\n",
    "The rest of the parameters remain unchanged. If for example we still want to use the reference-based workflow as previously shown, but using BAM files as input instead while only scanning unmapped reads, the final config file will look like this:\n",
    "\n",
    "```yaml\n",
    "config:\n",
    "  sequencing_technology: \"DNA\"\n",
    "  input: \"bam\"\n",
    "  paired_end: null\n",
    "  barcodes_path: false\n",
    "  phred33: true\n",
    "  read_qc_threshold: 20\n",
    "  read_qc_percentage: 80\n",
    "  filter_barcodes_relative_abundance: 0.001\n",
    "  filter_barcodes_raw_numbers: null\n",
    "  reference: \"/path/to/reference/file\"\n",
    "  aln_mismatches: ...\n",
    "  contig: \"*\"\n",
    "\n",
    "input_csv: \"/path/to/input.csv\"\n",
    "output_path: \"/path/to/output/directory\"\n",
    "```\n"
   ]
  },
  {
   "cell_type": "markdown",
   "id": "53975304",
   "metadata": {
    "vscode": {
     "languageId": "plaintext"
    }
   },
   "source": [
    "The csv file will need to be modified as well to specify the path to the BAM file while leaving the FASTQ fields empty:\n",
    "\n",
    "```\n",
    "sample,fastq_path_r1,fastq_path_r2,barcodes_path,bam_path,condition,replicate\n",
    "sample_01,,,,/path/to/bam,,\n",
    "```"
   ]
  },
  {
   "cell_type": "markdown",
   "id": "b96be4d4",
   "metadata": {},
   "source": [
    "## FASTA file for reference-based run\n",
    "\n",
    "Here is the fasta file with the complete reference to run this experiment using the reference-based approach"
   ]
  },
  {
   "cell_type": "markdown",
   "id": "70509e7d",
   "metadata": {},
   "source": [
    "```\n",
    ">clone_01\n",
    "GTGCCTATGCACAAAA\n",
    ">clone_02\n",
    "TCGCCTAATGACTTAA\n",
    ">clone_03\n",
    "GGCCCTTAGCACAATC\n",
    ">clone_04\n",
    "CTAACTAGCGACGGAG\n",
    ">clone_05\n",
    "TTCACTGACTACGACT\n",
    ">clone_06\n",
    "CCTGCTGCTAACCTTT\n",
    ">clone_07\n",
    "TAACCTACGAACCAAG\n",
    ">clone_08\n",
    "CTTTCTCCTTACCCTG\n",
    ">clone_09\n",
    "AGCGCTTAGAACGCTT\n",
    ">clone_10\n",
    "TGTACTTACGACGGTA\n",
    ">clone_11\n",
    "CGGACTGGGGACGGCG\n",
    ">clone_12\n",
    "AGGTCTGTCTACATTG\n",
    ">clone_13\n",
    "AGGCCTGATCACGAAT\n",
    ">clone_14\n",
    "CGTACTTCCGACGTAC\n",
    ">clone_15\n",
    "CGTCCTTGTTACGTGG\n",
    ">clone_16\n",
    "TGTGCTTATGACTCGC\n",
    ">clone_17\n",
    "CATGCTGGGCACTGGG\n",
    ">clone_18\n",
    "CGTACTGGTGACGGGC\n",
    ">clone_19\n",
    "TCGTCTTAGTACTCCT\n",
    ">clone_20\n",
    "CAAACTATCCACGCCG\n",
    ">clone_21\n",
    "AACACTACTGACATTC\n",
    ">clone_22\n",
    "TCAACTTGGAACTTAG\n",
    ">clone_23\n",
    "TGAGCTAGCTACACAG\n",
    ">clone_24\n",
    "AAGACTATATACTAAT\n",
    ">clone_25\n",
    "GTGCCTGGTGACGATT\n",
    ">clone_26\n",
    "GTCCCTGATCACGTCG\n",
    ">clone_27 \n",
    "GTTTCTAAATACGAGA\n",
    ">clone_28\n",
    "AAACCTCTATACGTTT\n",
    ">clone_29\n",
    "GATACTTTAGACGAAC\n",
    ">clone_30\n",
    "TGCACTAGTCACGGTT\n",
    ">clone_31\n",
    "AATGCTGTTAACGAGG\n",
    ">clone_32\n",
    "GTGTCTTATCACAGTG\n",
    ">clone_33\n",
    "TTTGCTATCAACTCGG\n",
    ">clone_34\n",
    "CTTACTGTACACGTAT\n",
    ">clone_35\n",
    "TTATCTGCATACACGT\n",
    ">clone_36\n",
    "TGGGCTCAGAACTGTC\n",
    ">clone_37\n",
    "TGAACTTGAGACATCG\n",
    ">clone_38\n",
    "CTCGCTGACGACCTCC\n",
    ">clone_39\n",
    "TACGCTCGTGACCCAG\n",
    ">clone_40\n",
    "AACTCTGTGAACTTAA\n",
    ">clone_41\n",
    "CACGCTGCTCACAGGC\n",
    ">clone_42\n",
    "TTAGCTGGGGACCCAT\n",
    "```"
   ]
  }
 ],
 "metadata": {
  "language_info": {
   "name": "python"
  }
 },
 "nbformat": 4,
 "nbformat_minor": 5
}
